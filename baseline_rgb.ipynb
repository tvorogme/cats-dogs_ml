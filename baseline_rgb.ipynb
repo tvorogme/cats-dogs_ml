{
 "cells": [
  {
   "cell_type": "code",
   "execution_count": 1,
   "metadata": {
    "collapsed": false
   },
   "outputs": [],
   "source": [
    "from PIL import Image,ImageOps\n",
    "from cats_dogs_preproc import *\n",
    "import matplotlib.pyplot as plt\n",
    "%matplotlib inline\n",
    "import time\n",
    "import numpy as np\n",
    "import os\n",
    "import theano\n",
    "import theano.tensor as T\n",
    "import lasagne"
   ]
  },
  {
   "cell_type": "markdown",
   "metadata": {},
   "source": [
    "### Волшебные переменные"
   ]
  },
  {
   "cell_type": "code",
   "execution_count": 9,
   "metadata": {
    "collapsed": false
   },
   "outputs": [],
   "source": [
    "# Изображения\n",
    "IMG_GEN_IMG = False\n",
    "IMG_HEIGHT = 60\n",
    "IMG_WIDTH = 60\n",
    "IMG_GRAY = True\n",
    "\n",
    "# Обучаем\n",
    "NUM_EPOCH = 50\n",
    "BATCH_SIZE = 10"
   ]
  },
  {
   "cell_type": "markdown",
   "metadata": {},
   "source": [
    "#### Препарируем изображение"
   ]
  },
  {
   "cell_type": "code",
   "execution_count": 3,
   "metadata": {
    "collapsed": false
   },
   "outputs": [],
   "source": [
    "X,y = load_data(IMG_GEN_IMG, IMG_HEIGHT, IMG_WIDTH, IMG_GRAY)\n",
    "# X,y = prepar_img(IMG_HEIGHT, IMG_WIDTH, IMG_GRAY)\n",
    "\n",
    "# Режем дату\n",
    "TRAIN_SIZE = (len(X)*4)/5\n",
    "VAL_SIZE = len(X)/10\n",
    "TEST_SIZE = len(X) - TRAIN_SIZE - VAL_SIZE\n",
    "\n",
    "X_train, y_train, X_val, y_val, X_test, y_test = prepar_data(X, y, TRAIN_SIZE, VAL_SIZE, TEST_SIZE)"
   ]
  },
  {
   "cell_type": "code",
   "execution_count": 4,
   "metadata": {
    "collapsed": false
   },
   "outputs": [
    {
     "name": "stdout",
     "output_type": "stream",
     "text": [
      "(25000, 1, 60, 60)\n"
     ]
    }
   ],
   "source": [
    "input_X = T.tensor4(\"X cat/dog image\")\n",
    "target_y = T.vector(\"target Y cat/dog\",dtype='int32')\n",
    "input_shape = [None] + list(X.shape[1:])\n",
    "print X.shape"
   ]
  },
  {
   "cell_type": "markdown",
   "metadata": {},
   "source": [
    "#### Разварачиваем сеть"
   ]
  },
  {
   "cell_type": "code",
   "execution_count": 5,
   "metadata": {
    "collapsed": true
   },
   "outputs": [],
   "source": [
    "input_layer = lasagne.layers.InputLayer(shape = input_shape,input_var=input_X)\n",
    "\n",
    "conv_1 = lasagne.layers.Conv2DLayer(input_layer, num_filters = 10,filter_size = (2,2),\n",
    "                                    nonlinearity= lasagne.nonlinearities.very_leaky_rectify)\n",
    "\n",
    "batch_1 = lasagne.layers.batch_norm(conv_1)\n",
    "\n",
    "pool_1 = lasagne.layers.MaxPool2DLayer(batch_1,pool_size = 5)\n",
    "\n",
    "batch_2 = lasagne.layers.batch_norm(pool_1)\n",
    "\n",
    "dense_output = lasagne.layers.DenseLayer(batch_2,\n",
    "                                         num_units = 2, #нейрон котэ и нейрон собакэ\n",
    "                                        nonlinearity = lasagne.nonlinearities.softmax,\n",
    "                                        name='output')"
   ]
  },
  {
   "cell_type": "code",
   "execution_count": 6,
   "metadata": {
    "collapsed": true
   },
   "outputs": [],
   "source": [
    "#предсказание нейронки (theano-преобразование)\n",
    "y_predicted = lasagne.layers.get_output(dense_output)\n",
    "\n",
    "#все веса нейронки (shared-переменные)\n",
    "all_weights = lasagne.layers.get_all_params(dense_output,trainable=True)\n",
    "\n",
    "#функция ошибки - средняя кроссэнтропия\n",
    "loss = lasagne.objectives.categorical_crossentropy(y_predicted,target_y).mean()\n",
    "\n",
    "#регуляризация, если захотите\n",
    "loss += lasagne.regularization.l2(loss)\n",
    "\n",
    "#<возможно добавить регуляризатор>\n",
    "accuracy = lasagne.objectives.categorical_accuracy(y_predicted,target_y).mean()\n",
    "\n",
    "#сразу посчитать словарь обновлённых значений с шагом по градиенту, как раньше\n",
    "updates_sgd = lasagne.updates.adamax(loss,all_weights,learning_rate = 0.0001)\n",
    "\n",
    "#функция, которая обучает сеть на 1 шаг и возвращащет значение функции потерь и точности\n",
    "train_fun = theano.function([input_X,target_y],[loss,accuracy],updates= updates_sgd)\n",
    "\n",
    "#функция, которая считает точность\n",
    "accuracy_fun = theano.function([input_X,target_y],accuracy)"
   ]
  },
  {
   "cell_type": "markdown",
   "metadata": {},
   "source": [
    "#### Обучаем"
   ]
  },
  {
   "cell_type": "code",
   "execution_count": 10,
   "metadata": {
    "collapsed": false
   },
   "outputs": [
    {
     "name": "stdout",
     "output_type": "stream",
     "text": [
      "Epoch 1 of 50 took 80.691s\n",
      "  training loss (in-iteration):\t\t1.017795\n",
      "  train accuracy:\t\t66.89 %\n",
      "  validation accuracy:\t\t67.04 %\n",
      "Epoch 2 of 50 took 80.530s\n",
      "  training loss (in-iteration):\t\t0.974900\n",
      "  train accuracy:\t\t68.65 %\n",
      "  validation accuracy:\t\t67.48 %\n",
      "Epoch 3 of 50 took 80.237s\n",
      "  training loss (in-iteration):\t\t0.947065\n",
      "  train accuracy:\t\t69.54 %\n",
      "  validation accuracy:\t\t68.64 %\n",
      "Epoch 4 of 50 took 80.627s\n",
      "  training loss (in-iteration):\t\t0.930236\n",
      "  train accuracy:\t\t70.15 %\n",
      "  validation accuracy:\t\t68.84 %\n",
      "Epoch 5 of 50 took 80.156s\n",
      "  training loss (in-iteration):\t\t0.910896\n",
      "  train accuracy:\t\t71.10 %\n",
      "  validation accuracy:\t\t69.60 %\n",
      "Epoch 6 of 50 took 80.290s\n",
      "  training loss (in-iteration):\t\t0.895993\n",
      "  train accuracy:\t\t71.61 %\n",
      "  validation accuracy:\t\t70.16 %\n",
      "Epoch 7 of 50 took 79.989s\n",
      "  training loss (in-iteration):\t\t0.891097\n",
      "  train accuracy:\t\t71.92 %\n",
      "  validation accuracy:\t\t70.60 %\n",
      "Epoch 8 of 50 took 79.043s\n",
      "  training loss (in-iteration):\t\t0.879948\n",
      "  train accuracy:\t\t72.45 %\n",
      "  validation accuracy:\t\t71.16 %\n",
      "Epoch 9 of 50 took 80.148s\n",
      "  training loss (in-iteration):\t\t0.874028\n",
      "  train accuracy:\t\t72.75 %\n",
      "  validation accuracy:\t\t70.84 %\n",
      "Epoch 10 of 50 took 80.149s\n",
      "  training loss (in-iteration):\t\t0.866784\n",
      "  train accuracy:\t\t72.97 %\n",
      "  validation accuracy:\t\t70.80 %\n",
      "Epoch 11 of 50 took 79.018s\n",
      "  training loss (in-iteration):\t\t0.862821\n",
      "  train accuracy:\t\t73.14 %\n",
      "  validation accuracy:\t\t71.12 %\n",
      "Epoch 12 of 50 took 80.627s\n",
      "  training loss (in-iteration):\t\t0.856626\n",
      "  train accuracy:\t\t72.81 %\n",
      "  validation accuracy:\t\t71.28 %\n",
      "Epoch 13 of 50 took 80.001s\n",
      "  training loss (in-iteration):\t\t0.853984\n",
      "  train accuracy:\t\t73.57 %\n",
      "  validation accuracy:\t\t70.88 %\n",
      "Epoch 14 of 50 took 79.604s\n",
      "  training loss (in-iteration):\t\t0.849512\n",
      "  train accuracy:\t\t73.63 %\n",
      "  validation accuracy:\t\t71.80 %\n",
      "Epoch 15 of 50 took 79.811s\n",
      "  training loss (in-iteration):\t\t0.846323\n",
      "  train accuracy:\t\t73.67 %\n",
      "  validation accuracy:\t\t71.28 %\n",
      "Epoch 16 of 50 took 79.281s\n",
      "  training loss (in-iteration):\t\t0.838266\n",
      "  train accuracy:\t\t73.97 %\n",
      "  validation accuracy:\t\t71.60 %\n",
      "Epoch 17 of 50 took 79.883s\n",
      "  training loss (in-iteration):\t\t0.836333\n",
      "  train accuracy:\t\t74.09 %\n",
      "  validation accuracy:\t\t72.12 %\n",
      "Epoch 18 of 50 took 79.469s\n",
      "  training loss (in-iteration):\t\t0.834881\n",
      "  train accuracy:\t\t73.99 %\n",
      "  validation accuracy:\t\t72.24 %\n",
      "Epoch 19 of 50 took 79.833s\n",
      "  training loss (in-iteration):\t\t0.832170\n",
      "  train accuracy:\t\t74.16 %\n",
      "  validation accuracy:\t\t72.08 %\n",
      "Epoch 20 of 50 took 79.339s\n",
      "  training loss (in-iteration):\t\t0.832297\n",
      "  train accuracy:\t\t74.11 %\n",
      "  validation accuracy:\t\t71.20 %\n",
      "Epoch 21 of 50 took 79.451s\n",
      "  training loss (in-iteration):\t\t0.828462\n",
      "  train accuracy:\t\t74.35 %\n",
      "  validation accuracy:\t\t72.40 %\n",
      "Epoch 22 of 50 took 77.166s\n",
      "  training loss (in-iteration):\t\t0.830684\n",
      "  train accuracy:\t\t74.18 %\n",
      "  validation accuracy:\t\t72.44 %\n",
      "Epoch 23 of 50 took 77.143s\n",
      "  training loss (in-iteration):\t\t0.826727\n",
      "  train accuracy:\t\t74.27 %\n",
      "  validation accuracy:\t\t72.72 %\n",
      "Epoch 24 of 50 took 77.121s\n",
      "  training loss (in-iteration):\t\t0.828500\n",
      "  train accuracy:\t\t74.43 %\n",
      "  validation accuracy:\t\t72.40 %\n",
      "Epoch 25 of 50 took 75.060s\n",
      "  training loss (in-iteration):\t\t0.824282\n",
      "  train accuracy:\t\t74.65 %\n",
      "  validation accuracy:\t\t72.48 %\n",
      "Epoch 26 of 50 took 75.255s\n",
      "  training loss (in-iteration):\t\t0.820815\n",
      "  train accuracy:\t\t74.30 %\n",
      "  validation accuracy:\t\t73.44 %\n",
      "Epoch 27 of 50 took 78.572s\n",
      "  training loss (in-iteration):\t\t0.821707\n",
      "  train accuracy:\t\t74.39 %\n",
      "  validation accuracy:\t\t72.44 %\n",
      "Epoch 28 of 50 took 76.096s\n",
      "  training loss (in-iteration):\t\t0.823464\n",
      "  train accuracy:\t\t74.42 %\n",
      "  validation accuracy:\t\t73.00 %\n",
      "Epoch 29 of 50 took 75.167s\n",
      "  training loss (in-iteration):\t\t0.816867\n",
      "  train accuracy:\t\t74.50 %\n",
      "  validation accuracy:\t\t73.16 %\n",
      "Epoch 30 of 50 took 75.386s\n",
      "  training loss (in-iteration):\t\t0.818034\n",
      "  train accuracy:\t\t74.57 %\n",
      "  validation accuracy:\t\t72.80 %\n",
      "Epoch 31 of 50 took 75.278s\n",
      "  training loss (in-iteration):\t\t0.816260\n",
      "  train accuracy:\t\t74.60 %\n",
      "  validation accuracy:\t\t73.04 %\n",
      "Epoch 32 of 50 took 75.449s\n",
      "  training loss (in-iteration):\t\t0.818079\n",
      "  train accuracy:\t\t74.61 %\n",
      "  validation accuracy:\t\t72.88 %\n",
      "Epoch 33 of 50 took 76.049s\n",
      "  training loss (in-iteration):\t\t0.813648\n",
      "  train accuracy:\t\t75.03 %\n",
      "  validation accuracy:\t\t72.92 %\n",
      "Epoch 34 of 50 took 78.356s\n",
      "  training loss (in-iteration):\t\t0.810725\n",
      "  train accuracy:\t\t74.65 %\n",
      "  validation accuracy:\t\t73.08 %\n",
      "Epoch 35 of 50 took 76.026s\n",
      "  training loss (in-iteration):\t\t0.807208\n",
      "  train accuracy:\t\t74.98 %\n",
      "  validation accuracy:\t\t72.88 %\n",
      "Epoch 36 of 50 took 77.996s\n",
      "  training loss (in-iteration):\t\t0.810701\n",
      "  train accuracy:\t\t74.52 %\n",
      "  validation accuracy:\t\t73.00 %\n",
      "Epoch 37 of 50 took 77.601s\n",
      "  training loss (in-iteration):\t\t0.809825\n",
      "  train accuracy:\t\t74.74 %\n",
      "  validation accuracy:\t\t72.68 %\n",
      "Epoch 38 of 50 took 75.135s\n",
      "  training loss (in-iteration):\t\t0.805086\n",
      "  train accuracy:\t\t75.03 %\n",
      "  validation accuracy:\t\t73.20 %\n",
      "Epoch 39 of 50 took 74.679s\n",
      "  training loss (in-iteration):\t\t0.805736\n",
      "  train accuracy:\t\t75.05 %\n",
      "  validation accuracy:\t\t72.20 %\n",
      "Epoch 40 of 50 took 74.673s\n",
      "  training loss (in-iteration):\t\t0.806740\n",
      "  train accuracy:\t\t75.32 %\n",
      "  validation accuracy:\t\t72.72 %\n",
      "Epoch 41 of 50 took 76.940s\n",
      "  training loss (in-iteration):\t\t0.804988\n",
      "  train accuracy:\t\t75.05 %\n",
      "  validation accuracy:\t\t72.56 %\n",
      "Epoch 42 of 50 took 74.841s\n",
      "  training loss (in-iteration):\t\t0.800562\n",
      "  train accuracy:\t\t75.23 %\n",
      "  validation accuracy:\t\t73.00 %\n",
      "Epoch 43 of 50 took 74.910s\n",
      "  training loss (in-iteration):\t\t0.801467\n",
      "  train accuracy:\t\t75.32 %\n",
      "  validation accuracy:\t\t73.24 %\n",
      "Epoch 44 of 50 took 75.437s\n",
      "  training loss (in-iteration):\t\t0.802738\n",
      "  train accuracy:\t\t75.17 %\n",
      "  validation accuracy:\t\t73.12 %\n",
      "Epoch 45 of 50 took 75.653s\n",
      "  training loss (in-iteration):\t\t0.800505\n",
      "  train accuracy:\t\t75.17 %\n",
      "  validation accuracy:\t\t72.72 %\n",
      "Epoch 46 of 50 took 76.006s\n",
      "  training loss (in-iteration):\t\t0.795929\n",
      "  train accuracy:\t\t75.16 %\n",
      "  validation accuracy:\t\t72.84 %\n",
      "Epoch 47 of 50 took 75.897s\n",
      "  training loss (in-iteration):\t\t0.801934\n",
      "  train accuracy:\t\t75.10 %\n",
      "  validation accuracy:\t\t73.08 %\n",
      "Epoch 48 of 50 took 77.623s\n",
      "  training loss (in-iteration):\t\t0.798838\n",
      "  train accuracy:\t\t75.09 %\n",
      "  validation accuracy:\t\t72.76 %\n",
      "Epoch 49 of 50 took 74.943s\n",
      "  training loss (in-iteration):\t\t0.799595\n",
      "  train accuracy:\t\t75.62 %\n",
      "  validation accuracy:\t\t72.72 %\n",
      "Epoch 50 of 50 took 74.909s\n",
      "  training loss (in-iteration):\t\t0.801183\n",
      "  train accuracy:\t\t75.11 %\n",
      "  validation accuracy:\t\t72.76 %\n"
     ]
    }
   ],
   "source": [
    "train = []\n",
    "test = []\n",
    "for epoch in range(NUM_EPOCH):\n",
    "    # In each epoch, we do a full pass over the training data:\n",
    "    train_err = 0\n",
    "    train_acc = 0\n",
    "    train_batches = 0\n",
    "    start_time = time.time()\n",
    "    for batch in iterate_minibatches(X_train, y_train, BATCH_SIZE):\n",
    "        inputs, targets = batch\n",
    "        train_err_batch, train_acc_batch= train_fun(inputs, targets)\n",
    "        train_err += train_err_batch\n",
    "        train_acc += train_acc_batch\n",
    "        train_batches += 1\n",
    "\n",
    "    # And a full pass over the validation data:\n",
    "    val_acc = 0\n",
    "    val_batches = 0\n",
    "    for batch in iterate_minibatches(X_val, y_val, BATCH_SIZE):\n",
    "        inputs, targets = batch\n",
    "        val_acc += accuracy_fun(inputs, targets)\n",
    "        val_batches += 1\n",
    "\n",
    "    \n",
    "    # Then we print the results for this epoch:\n",
    "    print(\"Epoch {} of {} took {:.3f}s\".format(\n",
    "        epoch + 1, NUM_EPOCH, time.time() - start_time))\n",
    "\n",
    "    print(\"  training loss (in-iteration):\\t\\t{:.6f}\".format(train_err / train_batches))\n",
    "    print(\"  train accuracy:\\t\\t{:.2f} %\".format(\n",
    "        train_acc / train_batches * 100))\n",
    "    train.append(train_acc / train_batches * 100)\n",
    "    print(\"  validation accuracy:\\t\\t{:.2f} %\".format(\n",
    "        val_acc / val_batches * 100))\n",
    "    test.append(val_acc / val_batches * 100)"
   ]
  },
  {
   "cell_type": "code",
   "execution_count": 13,
   "metadata": {
    "collapsed": false
   },
   "outputs": [
    {
     "name": "stdout",
     "output_type": "stream",
     "text": [
      "Final results:\n",
      "  test accuracy:\t\t73.32 %\n"
     ]
    }
   ],
   "source": [
    "test_acc = 0\n",
    "test_batches = 0\n",
    "for batch in iterate_minibatches(X_test, y_test, 500):\n",
    "    inputs, targets = batch\n",
    "    acc = accuracy_fun(inputs, targets)\n",
    "    test_acc += acc\n",
    "    test_batches += 1\n",
    "print(\"Final results:\")\n",
    "print(\"  test accuracy:\\t\\t{:.2f} %\".format(\n",
    "    test_acc / test_batches * 100))\n",
    "# if(max_accuracy<(test_acc / test_batches * 100)):\n",
    "#     max_accuracy = test_acc / test_batches * 100\n",
    "\n",
    "# max_accuracy = test_acc / test_batches * 100\n",
    "# print max_accuracy"
   ]
  },
  {
   "cell_type": "code",
   "execution_count": 18,
   "metadata": {
    "collapsed": true
   },
   "outputs": [],
   "source": [
    "weight = lasagne.layers.get_all_param_values(dense_output)\n",
    "np.save('xenx_network_v_1_baseline_weight.npy', weight)"
   ]
  },
  {
   "cell_type": "code",
   "execution_count": null,
   "metadata": {
    "collapsed": true
   },
   "outputs": [],
   "source": []
  }
 ],
 "metadata": {
  "kernelspec": {
   "display_name": "Python 2",
   "language": "python",
   "name": "python2"
  },
  "language_info": {
   "codemirror_mode": {
    "name": "ipython",
    "version": 2
   },
   "file_extension": ".py",
   "mimetype": "text/x-python",
   "name": "python",
   "nbconvert_exporter": "python",
   "pygments_lexer": "ipython2",
   "version": "2.7.11"
  }
 },
 "nbformat": 4,
 "nbformat_minor": 0
}
